{
 "cells": [
  {
   "cell_type": "code",
   "execution_count": 39,
   "id": "jwCnjzAaAtd-",
   "metadata": {
    "colab": {
     "base_uri": "https://localhost:8080/"
    },
    "id": "jwCnjzAaAtd-",
    "outputId": "a9f90637-35f0-412b-da8b-eaec364834c4"
   },
   "outputs": [
    {
     "name": "stdout",
     "output_type": "stream",
     "text": [
      "Requirement already satisfied: mlxtend in /usr/local/lib/python3.10/dist-packages (0.23.2)\n",
      "Requirement already satisfied: torchmetrics in /usr/local/lib/python3.10/dist-packages (1.6.0)\n",
      "Requirement already satisfied: scipy>=1.2.1 in /usr/local/lib/python3.10/dist-packages (from mlxtend) (1.13.1)\n",
      "Requirement already satisfied: numpy>=1.16.2 in /usr/local/lib/python3.10/dist-packages (from mlxtend) (1.26.4)\n",
      "Requirement already satisfied: pandas>=0.24.2 in /usr/local/lib/python3.10/dist-packages (from mlxtend) (2.2.2)\n",
      "Requirement already satisfied: scikit-learn>=1.3.1 in /usr/local/lib/python3.10/dist-packages (from mlxtend) (1.5.2)\n",
      "Requirement already satisfied: matplotlib>=3.0.0 in /usr/local/lib/python3.10/dist-packages (from mlxtend) (3.8.0)\n",
      "Requirement already satisfied: joblib>=0.13.2 in /usr/local/lib/python3.10/dist-packages (from mlxtend) (1.4.2)\n",
      "Requirement already satisfied: packaging>17.1 in /usr/local/lib/python3.10/dist-packages (from torchmetrics) (24.2)\n",
      "Requirement already satisfied: torch>=2.0.0 in /usr/local/lib/python3.10/dist-packages (from torchmetrics) (2.5.0+cu121)\n",
      "Requirement already satisfied: lightning-utilities>=0.8.0 in /usr/local/lib/python3.10/dist-packages (from torchmetrics) (0.11.8)\n",
      "Requirement already satisfied: setuptools in /usr/local/lib/python3.10/dist-packages (from lightning-utilities>=0.8.0->torchmetrics) (75.1.0)\n",
      "Requirement already satisfied: typing-extensions in /usr/local/lib/python3.10/dist-packages (from lightning-utilities>=0.8.0->torchmetrics) (4.12.2)\n",
      "Requirement already satisfied: contourpy>=1.0.1 in /usr/local/lib/python3.10/dist-packages (from matplotlib>=3.0.0->mlxtend) (1.3.0)\n",
      "Requirement already satisfied: cycler>=0.10 in /usr/local/lib/python3.10/dist-packages (from matplotlib>=3.0.0->mlxtend) (0.12.1)\n",
      "Requirement already satisfied: fonttools>=4.22.0 in /usr/local/lib/python3.10/dist-packages (from matplotlib>=3.0.0->mlxtend) (4.54.1)\n",
      "Requirement already satisfied: kiwisolver>=1.0.1 in /usr/local/lib/python3.10/dist-packages (from matplotlib>=3.0.0->mlxtend) (1.4.7)\n",
      "Requirement already satisfied: pillow>=6.2.0 in /usr/local/lib/python3.10/dist-packages (from matplotlib>=3.0.0->mlxtend) (11.0.0)\n",
      "Requirement already satisfied: pyparsing>=2.3.1 in /usr/local/lib/python3.10/dist-packages (from matplotlib>=3.0.0->mlxtend) (3.2.0)\n",
      "Requirement already satisfied: python-dateutil>=2.7 in /usr/local/lib/python3.10/dist-packages (from matplotlib>=3.0.0->mlxtend) (2.8.2)\n",
      "Requirement already satisfied: pytz>=2020.1 in /usr/local/lib/python3.10/dist-packages (from pandas>=0.24.2->mlxtend) (2024.2)\n",
      "Requirement already satisfied: tzdata>=2022.7 in /usr/local/lib/python3.10/dist-packages (from pandas>=0.24.2->mlxtend) (2024.2)\n",
      "Requirement already satisfied: threadpoolctl>=3.1.0 in /usr/local/lib/python3.10/dist-packages (from scikit-learn>=1.3.1->mlxtend) (3.5.0)\n",
      "Requirement already satisfied: filelock in /usr/local/lib/python3.10/dist-packages (from torch>=2.0.0->torchmetrics) (3.16.1)\n",
      "Requirement already satisfied: networkx in /usr/local/lib/python3.10/dist-packages (from torch>=2.0.0->torchmetrics) (3.4.2)\n",
      "Requirement already satisfied: jinja2 in /usr/local/lib/python3.10/dist-packages (from torch>=2.0.0->torchmetrics) (3.1.4)\n",
      "Requirement already satisfied: fsspec in /usr/local/lib/python3.10/dist-packages (from torch>=2.0.0->torchmetrics) (2024.10.0)\n",
      "Requirement already satisfied: sympy==1.13.1 in /usr/local/lib/python3.10/dist-packages (from torch>=2.0.0->torchmetrics) (1.13.1)\n",
      "Requirement already satisfied: mpmath<1.4,>=1.1.0 in /usr/local/lib/python3.10/dist-packages (from sympy==1.13.1->torch>=2.0.0->torchmetrics) (1.3.0)\n",
      "Requirement already satisfied: six>=1.5 in /usr/local/lib/python3.10/dist-packages (from python-dateutil>=2.7->matplotlib>=3.0.0->mlxtend) (1.16.0)\n",
      "Requirement already satisfied: MarkupSafe>=2.0 in /usr/local/lib/python3.10/dist-packages (from jinja2->torch>=2.0.0->torchmetrics) (3.0.2)\n"
     ]
    }
   ],
   "source": [
    "#!pip install mlxtend torchmetrics"
   ]
  },
  {
   "cell_type": "code",
   "execution_count": 1,
   "id": "51c20c45-705d-4980-8dfd-c5f23e8587fc",
   "metadata": {
    "id": "51c20c45-705d-4980-8dfd-c5f23e8587fc"
   },
   "outputs": [],
   "source": [
    "# Created by Dr. Moh Khalaf to help my team to review basics concepts\n",
    "# torch\n",
    "import torch\n",
    "from torch import nn\n",
    "\n",
    "# computer vision\n",
    "import torchvision\n",
    "from torchvision import datasets , transforms\n",
    "from torchvision.transforms import ToTensor\n",
    "\n",
    "#  DataLoader\n",
    "from torch.utils.data import DataLoader\n",
    "#TensorDataset is a class from the torch.utils.data module that is used to store data in the form of tensors.\n",
    "#It is particularly useful when you want to pair input data (features) with corresponding labels, creating a dataset\n",
    "#that can be easily used with PyTorch DataLoader\n",
    "\n",
    "from torch.utils.data import TensorDataset   ## help to convert (images, label) to TensorDataset\n",
    "\n",
    "import torch.nn.functional as F\n",
    "#F is a common alias for torch.nn.functional, which is a module containing various functions\n",
    "#(like activation functions, convolution operations, pooling, etc.) that don’t require creating layer objects.\n",
    "#Instead, they are called directly as functions, which is often more convenient in certain scenarios,\n",
    "#like when you're defining custom layers.\n",
    "\n",
    "# Visualization\n",
    "import matplotlib.pylab as plt\n",
    "# import the timer\n",
    "from timeit import default_timer as timer\n",
    "# from tqdm import tqdm  Bar visulization\n",
    "from tqdm.auto import tqdm\n",
    "\n",
    "import random    # to use the random.samples()\n",
    "\n",
    "# for confusion Matrix\n",
    "import mlxtend  , torchmetrics\n",
    "from torchmetrics import ConfusionMatrix\n",
    "from mlxtend.plotting import plot_confusion_matrix\n",
    "\n",
    "# Checks if a CUDA-capable GPU is available on the system\n",
    "device = \"cuda\" if torch.cuda.is_available() else \"cpu\""
   ]
  },
  {
   "cell_type": "code",
   "execution_count": 41,
   "id": "lkddgVDy2Z8y",
   "metadata": {
    "id": "lkddgVDy2Z8y"
   },
   "outputs": [],
   "source": [
    "#!pip install mlxtend torchmetrics"
   ]
  },
  {
   "cell_type": "markdown",
   "id": "5f78013c-d83b-44cf-91dd-26da73882403",
   "metadata": {
    "id": "5f78013c-d83b-44cf-91dd-26da73882403"
   },
   "source": [
    "### 1- Prepare the Data (Getting the Dataset CIFAR10)"
   ]
  },
  {
   "cell_type": "code",
   "execution_count": 2,
   "id": "54264408-97fb-4536-977a-a931ba7bb38e",
   "metadata": {
    "colab": {
     "base_uri": "https://localhost:8080/"
    },
    "id": "54264408-97fb-4536-977a-a931ba7bb38e",
    "outputId": "b5bd2c99-cc7e-44cb-ee94-f54272ff2e39"
   },
   "outputs": [
    {
     "name": "stdout",
     "output_type": "stream",
     "text": [
      "Files already downloaded and verified\n",
      "Files already downloaded and verified\n"
     ]
    }
   ],
   "source": [
    "train_data = datasets.CIFAR10(\n",
    "    root=\"data\", # the folder name to download dataset on it\n",
    "    train=True,\n",
    "    download=True,\n",
    "    transform=torchvision.transforms.ToTensor(), # transform data to tensor\n",
    "    target_transform=None # no need to transform the labels  (target means labels)\n",
    ")\n",
    "\n",
    "test_data = datasets.CIFAR10(\n",
    "    root='data',train=False,download=True,transform=torchvision.transforms.ToTensor(),target_transform=None)\n"
   ]
  },
  {
   "cell_type": "code",
   "execution_count": 3,
   "id": "0eea2ec1-b962-465e-9f65-b2f5d85b5546",
   "metadata": {
    "colab": {
     "base_uri": "https://localhost:8080/"
    },
    "id": "0eea2ec1-b962-465e-9f65-b2f5d85b5546",
    "outputId": "214cd814-465c-417a-beb0-783514622a65"
   },
   "outputs": [
    {
     "data": {
      "text/plain": [
       "{'airplane': 0,\n",
       " 'automobile': 1,\n",
       " 'bird': 2,\n",
       " 'cat': 3,\n",
       " 'deer': 4,\n",
       " 'dog': 5,\n",
       " 'frog': 6,\n",
       " 'horse': 7,\n",
       " 'ship': 8,\n",
       " 'truck': 9}"
      ]
     },
     "execution_count": 3,
     "metadata": {},
     "output_type": "execute_result"
    }
   ],
   "source": [
    "class_names = train_data.classes\n",
    "class_index = train_data.class_to_idx\n",
    "class_index"
   ]
  },
  {
   "cell_type": "code",
   "execution_count": 4,
   "id": "433127a5-45ee-41cd-be3c-4a6684ec19c1",
   "metadata": {
    "colab": {
     "base_uri": "https://localhost:8080/"
    },
    "id": "433127a5-45ee-41cd-be3c-4a6684ec19c1",
    "outputId": "171b56ea-e55d-43b2-bdcf-4c37c0ce6bf5"
   },
   "outputs": [
    {
     "data": {
      "text/plain": [
       "(Dataset CIFAR10\n",
       "     Number of datapoints: 50000\n",
       "     Root location: data\n",
       "     Split: Train\n",
       "     StandardTransform\n",
       " Transform: ToTensor(),\n",
       " Dataset CIFAR10\n",
       "     Number of datapoints: 10000\n",
       "     Root location: data\n",
       "     Split: Test\n",
       "     StandardTransform\n",
       " Transform: ToTensor())"
      ]
     },
     "execution_count": 4,
     "metadata": {},
     "output_type": "execute_result"
    }
   ],
   "source": [
    "train_data , test_data"
   ]
  },
  {
   "cell_type": "markdown",
   "id": "a16717be-4d34-4b54-82d8-348c514ba21c",
   "metadata": {
    "id": "a16717be-4d34-4b54-82d8-348c514ba21c"
   },
   "source": [
    "### Check the data"
   ]
  },
  {
   "cell_type": "code",
   "execution_count": 5,
   "id": "0ee7e948-14db-4427-a474-8165f5108e95",
   "metadata": {
    "id": "0ee7e948-14db-4427-a474-8165f5108e95"
   },
   "outputs": [],
   "source": [
    "def plot_fn(data, cmap1 = None, title1 = None, text : str =\" \"):\n",
    "    \"\"\"\n",
    "    data is the dataset in the form of ( Color , H , W )\n",
    "    cmap1 = %colors ,\n",
    "    title1 -->label\n",
    "    text --> data type  -->> training , testing , eval .......\n",
    "    \"\"\"\n",
    "    torch.manual_seed(42)\n",
    "    fig = plt.figure(figsize= (16,5))   ### ( W , H )\n",
    "    rows , cols = 2,10\n",
    "    print(f'\"\\n\" + \" \" * 20 + \"----------- Plotting  {rows} * {cols} samples with label  {text}-----------\" + \"\\n\"')\n",
    "    classNames = data.classes\n",
    "    for i in  range(rows*cols) :\n",
    "        imageSelected, labelSelected = data[i]\n",
    "        fig.add_subplot(rows, cols, i+1)\n",
    "        imageResahape = imageSelected.permute(1,2,0).squeeze()\n",
    "\n",
    "        cmap = cmap1[i] if cmap1 is not None else \"gray\"\n",
    "        title = title1[i] if title1 is not None else classNames[labelSelected]\n",
    "        plt.imshow(imageResahape , cmap = cmap)\n",
    "        plt.title(title)\n",
    "        plt.axis(False)\n"
   ]
  },
  {
   "cell_type": "code",
   "execution_count": 6,
   "id": "b6ceee8d-8d94-40b6-880c-fa1fbc36585e",
   "metadata": {
    "colab": {
     "base_uri": "https://localhost:8080/",
     "height": 269
    },
    "id": "b6ceee8d-8d94-40b6-880c-fa1fbc36585e",
    "outputId": "b3a5d632-2c9d-4706-fbcf-074fc3e019ae"
   },
   "outputs": [
    {
     "name": "stdout",
     "output_type": "stream",
     "text": [
      "\"\n",
      "\" + \" \" * 20 + \"----------- Plotting  2 * 10 samples with label   -----------\" + \"\n",
      "\"\n"
     ]
    },
    {
     "data": {
      "image/png": "[encoded data removed]",
      "text/plain": [
       "<Figure size 1600x500 with 20 Axes>"
      ]
     },
     "metadata": {},
     "output_type": "display_data"
    }
   ],
   "source": [
    "plot_fn(train_data)"
   ]
  },
  {
   "cell_type": "code",
   "execution_count": 46,
   "id": "7df53c75-e247-413a-8555-c2014f3e3b8a",
   "metadata": {
    "id": "7df53c75-e247-413a-8555-c2014f3e3b8a"
   },
   "outputs": [],
   "source": []
  },
  {
   "cell_type": "markdown",
   "id": "52b22608-2653-4a92-93ec-8136609e2644",
   "metadata": {
    "id": "52b22608-2653-4a92-93ec-8136609e2644"
   },
   "source": [
    "### Batching the data\n",
    "By using a DataLoader, you can simplify your training loop, improve the performance of your model, and It is essential for efficient and effective training of neural networks.\n",
    "* Handles large datasets by loading data in smaller batches, reducing memory consumption.\n",
    "* Optimizes data loading and preprocessing for faster training."
   ]
  },
  {
   "cell_type": "code",
   "execution_count": 6,
   "id": "20fd85a9-2f68-49a1-85e7-6cca59214a83",
   "metadata": {
    "colab": {
     "base_uri": "https://localhost:8080/"
    },
    "id": "20fd85a9-2f68-49a1-85e7-6cca59214a83",
    "outputId": "925a38f4-1fc2-49e8-ac25-b3e839cbc673"
   },
   "outputs": [
    {
     "data": {
      "text/plain": [
       "(50000, 1563)"
      ]
     },
     "execution_count": 6,
     "metadata": {},
     "output_type": "execute_result"
    }
   ],
   "source": [
    "\n",
    "BATCH_SIZE = 32\n",
    "train_dataLoader = DataLoader( dataset= train_data, batch_size=BATCH_SIZE , shuffle=True)\n",
    "test_dataLoader  = DataLoader( dataset= test_data , batch_size=BATCH_SIZE , shuffle= False)\n",
    "\n",
    "len(train_data)  , len (train_dataLoader)"
   ]
  },
  {
   "cell_type": "code",
   "execution_count": 8,
   "id": "f7bff83a-2d24-4dba-95cb-4d4a2b1984a0",
   "metadata": {
    "colab": {
     "base_uri": "https://localhost:8080/"
    },
    "id": "f7bff83a-2d24-4dba-95cb-4d4a2b1984a0",
    "outputId": "ea40d121-7bc4-4519-b14e-44fba7025327"
   },
   "outputs": [
    {
     "data": {
      "text/plain": [
       "torch.Size([32, 3, 32, 32])"
      ]
     },
     "execution_count": 8,
     "metadata": {},
     "output_type": "execute_result"
    }
   ],
   "source": [
    "### what is the data shape coming out fromthe data loader\n",
    "train_dataLoader_features_per_batch , train_dataLoader_label_per_batch =  next(iter(train_dataLoader))\n",
    "\n",
    "train_dataLoader_features_per_batch.shape  # [ batch size , color , H , W ]\n"
   ]
  },
  {
   "cell_type": "markdown",
   "id": "bd345517-f4e3-423c-a127-2ca2bbc4df81",
   "metadata": {
    "id": "bd345517-f4e3-423c-a127-2ca2bbc4df81"
   },
   "source": [
    " ### Building ResNet 56 CNN model\n",
    " ResNet-56\n",
    "* 1. Residual Layers: 56 - 2 = 54\n",
    "* 2. Number of Blocks: 54 / 3 = 18\n",
    "* 3. Blocks per Stage: 18 / 3 = 6\n",
    "     \n",
    "So, ResNet-56 has 3 stages with 9 blocks per stage.\n",
    "## General ResNet Structure for CIFAR\n",
    "1. Initial Layer: 1 convolutional layer\n",
    "2. Residual Stages: Each stage has a series of residual blocks. Each block consists of 2\n",
    "convolutional layers.\n",
    "3. Fully Connected Layer: 1 fully connected layer at the end for classification."
   ]
  },
  {
   "cell_type": "markdown",
   "id": "c42457d9-bba1-4c54-ba6a-d6b3342c77f6",
   "metadata": {
    "id": "c42457d9-bba1-4c54-ba6a-d6b3342c77f6"
   },
   "source": [
    "<img src=\"src/general.jpg\"/>"
   ]
  },
  {
   "cell_type": "code",
   "execution_count": 7,
   "id": "d83b830e-2fd8-4ee1-911f-108b045cc229",
   "metadata": {
    "id": "d83b830e-2fd8-4ee1-911f-108b045cc229"
   },
   "outputs": [],
   "source": [
    "#\n",
    "class BottleNeckResidualBlock(nn.Module):\n",
    "    def __init__(self, in_channels, out_channels, stride=1):\n",
    "\n",
    "        super().__init__()\n",
    "        # First layer: 1x1 convolution to reduce channels\n",
    "        self.firstlayer = nn.Sequential(\n",
    "            nn.Conv2d(in_channels=in_channels, out_channels=out_channels//4, kernel_size=1, stride=stride),\n",
    "            nn.BatchNorm2d(out_channels//4),\n",
    "            nn.ReLU()\n",
    "        )\n",
    "        # Second layer: 3x3 Convolution\n",
    "        self.secondlayer = nn.Sequential(\n",
    "            nn.Conv2d(in_channels=out_channels//4, out_channels=out_channels//4, kernel_size=3, padding=1),\n",
    "            nn.BatchNorm2d(out_channels//4),\n",
    "            nn.ReLU()\n",
    "        )\n",
    "        # Third layer: 1x1 convolution to expand channels back to out_channels\n",
    "        self.thirdlayer = nn.Sequential(\n",
    "            nn.Conv2d(in_channels=out_channels//4, out_channels=out_channels, kernel_size=1),\n",
    "            nn.BatchNorm2d(out_channels)\n",
    "        )\n",
    "        # Skip connection for matching dimension\n",
    "        self.skip_connection = nn.Sequential()\n",
    "        if stride != 1 or in_channels != out_channels:\n",
    "            self.skip_connection = nn.Sequential(\n",
    "                nn.Conv2d(in_channels, out_channels, kernel_size=1, stride=stride),\n",
    "                nn.BatchNorm2d(out_channels)\n",
    "            )\n",
    "\n",
    "    def forward(self, x):\n",
    "        residual = self.skip_connection(x)\n",
    "        x = self.firstlayer(x)\n",
    "        x = self.secondlayer(x)\n",
    "        x = self.thirdlayer(x)\n",
    "        # Adding the residual connection with ReLU activation\n",
    "        x = F.relu(x + residual)\n",
    "        return x\n",
    "\n",
    "\n",
    "class ResNet56(nn.Module):\n",
    "\n",
    "    def __init__(self, input_features=3, hidden_units=64, output_classes=10): # output_features = number of classes\n",
    "        super().__init__()\n",
    "        self.current_channels = hidden_units  # Renamed for clarity\n",
    "        # Initial Convolution layer\n",
    "        self.initLayer = nn.Sequential(\n",
    "            nn.Conv2d(in_channels=input_features, out_channels=hidden_units, kernel_size=3, stride=1, padding=1),\n",
    "            nn.BatchNorm2d(hidden_units),\n",
    "            nn.ReLU()\n",
    "        )\n",
    "        # Residual Layers (18 blocks, 6 stages)\n",
    "        self.residual_blocks = nn.Sequential(\n",
    "            self._generateLayers(64, numOfBlocks=6, stride=1),  # 64\n",
    "            self._generateLayers(128, numOfBlocks=6, stride=2),  # 128\n",
    "            self._generateLayers(256, numOfBlocks=6, stride=2)   # 256\n",
    "        )\n",
    "        # Final fully connected layer and Global Average Pooling\n",
    "        self.fullyConnectedLayer = nn.Sequential(\n",
    "            nn.AdaptiveAvgPool2d(1),\n",
    "            nn.Flatten(),\n",
    "            nn.Linear(256, output_classes)\n",
    "        )\n",
    "\n",
    "    def _generateLayers(self, out_channels, numOfBlocks, stride):\n",
    "        layers = []\n",
    "        for i in range(numOfBlocks):\n",
    "            if i == 0:\n",
    "                layers.append(BottleNeckResidualBlock(self.current_channels, out_channels, stride=stride))\n",
    "            else:\n",
    "                layers.append(BottleNeckResidualBlock(out_channels, out_channels, stride=1))\n",
    "            self.current_channels = out_channels\n",
    "        return nn.Sequential(*layers)\n",
    "\n",
    "    def forward(self, x):\n",
    "        x = self.initLayer(x)\n",
    "        x = self.residual_blocks(x)\n",
    "        x = self.fullyConnectedLayer(x)\n",
    "        return x\n"
   ]
  },
  {
   "cell_type": "code",
   "execution_count": 9,
   "id": "030b67c6-2cdf-4d33-9055-529a3aff458b",
   "metadata": {
    "id": "030b67c6-2cdf-4d33-9055-529a3aff458b"
   },
   "outputs": [],
   "source": [
    "model1 = ResNet56()"
   ]
  },
  {
   "cell_type": "code",
   "execution_count": 51,
   "id": "bee8bc52-9554-474c-9471-8494410116da",
   "metadata": {
    "colab": {
     "base_uri": "https://localhost:8080/"
    },
    "id": "bee8bc52-9554-474c-9471-8494410116da",
    "outputId": "13dc2a9d-cce2-4b41-8735-aa33af505f70"
   },
   "outputs": [
    {
     "name": "stdout",
     "output_type": "stream",
     "text": [
      "<generator object Module.parameters at 0x7d519423ef80>\n"
     ]
    }
   ],
   "source": [
    "print(model1.parameters(train_dataLoader_features_per_batch))"
   ]
  },
  {
   "cell_type": "markdown",
   "id": "ebc41ded-aea6-4ec7-ba03-5f21619160c3",
   "metadata": {
    "id": "ebc41ded-aea6-4ec7-ba03-5f21619160c3"
   },
   "source": [
    "### Create Accuracy Function"
   ]
  },
  {
   "cell_type": "code",
   "execution_count": 15,
   "id": "2e85ffc5-e67b-47e0-86db-3d1bbd2be32f",
   "metadata": {
    "id": "2e85ffc5-e67b-47e0-86db-3d1bbd2be32f"
   },
   "outputs": [],
   "source": [
    "def accuracy_fn(y_true, y_pred):\n",
    "    \"\"\"accuracy function needs to enter the True data and the predected data \"\"\"\n",
    "    correct = torch.eq(y_true, y_pred).sum().item() # torch.eq() calculates where two tensors are equal\n",
    "    accuracy = (correct / len(y_pred)) * 100\n",
    "    return accuracy"
   ]
  },
  {
   "cell_type": "markdown",
   "id": "391fd12d-f3bf-41b2-a5fa-1c818d8d42c7",
   "metadata": {
    "id": "391fd12d-f3bf-41b2-a5fa-1c818d8d42c7"
   },
   "source": [
    "### Create loss and optimizer"
   ]
  },
  {
   "cell_type": "code",
   "execution_count": 10,
   "id": "53c1f13b-618e-409c-b82d-e5acecd5cf24",
   "metadata": {
    "id": "53c1f13b-618e-409c-b82d-e5acecd5cf24"
   },
   "outputs": [],
   "source": [
    "# Setup loss and optimizer\n",
    "loss_fn = nn.CrossEntropyLoss()\n",
    "\n",
    "# optimizer = torch.optim.SGD(params=model1.parameters(),\n",
    "                            #  lr=0.02)\n",
    "# Initialize the SGD optimizer\n",
    "optimizer =torch.optim.SGD(\n",
    "    params=model1.parameters(),  # The model parameters to update during training.\n",
    "    lr=0.02,                    # Learning rate; controls how much to adjust parameters per step.\n",
    "    momentum=0.9,               # Momentum; helps accelerate gradient descent and avoid local minima.\n",
    "    weight_decay=1e-4           # Weight decay (L2 regularization); helps prevent overfitting.\n",
    ")\n"
   ]
  },
  {
   "cell_type": "markdown",
   "id": "fee10f43-1873-45f6-abcc-2a583893931e",
   "metadata": {
    "id": "fee10f43-1873-45f6-abcc-2a583893931e"
   },
   "source": [
    "### Create the train function"
   ]
  },
  {
   "cell_type": "code",
   "execution_count": 54,
   "id": "ae647d7c-ca6d-48cf-9797-6f5911faaaf4",
   "metadata": {
    "id": "ae647d7c-ca6d-48cf-9797-6f5911faaaf4"
   },
   "outputs": [],
   "source": [
    "def training_fn(model:nn.Module, data_loader : torch.utils.data.DataLoader,\n",
    "                optimizer : torch.optim.SGD,\n",
    "                loss_fn : torch.nn.Module,\n",
    "                accuracy_fn , device : torch.device = device):\n",
    "\n",
    "    #initial values\n",
    "    trainLoss, trainAccuracy = 0 , 0\n",
    "    model.to(device)\n",
    "    model.train() # set the mode to training mode\n",
    "\n",
    "    for batch , ( X , y ) in enumerate( data_loader ) :\n",
    "        X , y  = X.to(device) , y.to(device)\n",
    "\n",
    "        # 1. Forward pass\n",
    "        y_pred = model(X)\n",
    "        # 2. Calculate the loss\n",
    "        loss = loss_fn( y_pred , y)\n",
    "        trainLoss +=loss\n",
    "        trainAccuracy += accuracy_fn(y_true = y , y_pred = y_pred.argmax(dim = 1))\n",
    "        # 3. optimizer zero grad\n",
    "        optimizer.zero_grad()\n",
    "        # 4. loss backward\n",
    "        loss.backward()\n",
    "        # 5 . optimizer step\n",
    "        optimizer.step()\n",
    "    trainLoss /= len(data_loader)\n",
    "    trainAccuracy /= len(data_loader)\n",
    "    print(f\"Model training loss : {trainLoss : 0.5f} | Model Accuracy : {trainAccuracy:0.2f}\")\n"
   ]
  },
  {
   "cell_type": "markdown",
   "id": "7e7276cc-8e23-41e7-9965-7fffc13fbdb2",
   "metadata": {
    "id": "7e7276cc-8e23-41e7-9965-7fffc13fbdb2"
   },
   "source": [
    "### Create the test function"
   ]
  },
  {
   "cell_type": "code",
   "execution_count": 13,
   "id": "764a7046-c050-465e-a032-49ecc623e63b",
   "metadata": {
    "id": "764a7046-c050-465e-a032-49ecc623e63b"
   },
   "outputs": [],
   "source": [
    "def test_fn( model:torch.nn.Module,\n",
    "             data_loader: torch.utils.data.DataLoader,\n",
    "             loss_fn:torch.nn.Module,\n",
    "             accuracy_fn,\n",
    "             device : torch.device=device):\n",
    "  # initial values and setup\n",
    "    testLoss , testAccuracy = 0 , 0\n",
    "    model.to(device)\n",
    "    model.eval() # put model in the evaluation mode\n",
    " # Turn on the infernce context manager\n",
    "    with torch.inference_mode():\n",
    "        for X, y in data_loader:\n",
    "            # send data to device\n",
    "            X, y = X.to(device), y.to(device)\n",
    "            # Forward pass\n",
    "            test_pred = model(X)\n",
    "            #Calculate the loss and accuracy\n",
    "            testLoss += loss_fn(test_pred, y)\n",
    "            testAccuracy+=accuracy_fn(y_true = y, y_pred=test_pred.argmax(dim=1))\n",
    "    testLoss = testLoss /len(data_loader)\n",
    "    testAccuracy/=len(data_loader)\n",
    "    print(f\" Model testing Loss : {testLoss:0.5f} | Model testing Accuracy : {testAccuracy:0.2f} \")\n",
    "\n"
   ]
  },
  {
   "cell_type": "code",
   "execution_count": 55,
   "id": "c19cb095-8736-4abe-8514-c955e7ce942f",
   "metadata": {
    "id": "c19cb095-8736-4abe-8514-c955e7ce942f"
   },
   "outputs": [],
   "source": []
  },
  {
   "cell_type": "markdown",
   "id": "625564bc-4635-48ae-bc98-135bc76b6d73",
   "metadata": {
    "id": "625564bc-4635-48ae-bc98-135bc76b6d73"
   },
   "source": [
    "### Training  the model1"
   ]
  },
  {
   "cell_type": "code",
   "execution_count": 56,
   "id": "d61121f0-2b6b-4632-93b6-a1e65e09fff1",
   "metadata": {
    "colab": {
     "base_uri": "https://localhost:8080/",
     "height": 1000,
     "referenced_widgets": [
      "78e667430c9848d8929ca1d0b97c2dec",
      "13211aae72ef424db6fdc3ae0cb62e16",
      "34a485881af64015bc7f9d969c858079",
      "70d67f92c9ef43a3af8f91708f4b1385",
      "9411ba0bbbb3418c89eed731e0c32eb7",
      "f96e457543194142aebd69f04730a240",
      "2f21334dc35b4a92ab9a8d78b0156081",
      "278905061244492db037d0de8cb750ce",
      "dd71e2087c16471484943e0a916f57d4",
      "fd6d5530b26641b18ea9c76d00ac42c9",
      "b5137f17d16f4d679fbacf4da7a85691"
     ]
    },
    "id": "d61121f0-2b6b-4632-93b6-a1e65e09fff1",
    "outputId": "36480aae-0f95-4160-8ff4-1a25abf5163f"
   },
   "outputs": [
    {
     "data": {
      "application/vnd.jupyter.widget-view+json": {
       "model_id": "78e667430c9848d8929ca1d0b97c2dec",
       "version_major": 2,
       "version_minor": 0
      },
      "text/plain": [
       "Training:   0%|          | 0/62520 [00:00<?, ?it/s]"
      ]
     },
     "metadata": {},
     "output_type": "display_data"
    },
    {
     "name": "stdout",
     "output_type": "stream",
     "text": [
      "Epoch 1/40\n",
      "Learning rate at epoch 1: 0.02000\n",
      "Model training loss :  1.70176 | Model Accuracy : 36.07\n",
      "Epoch 2/40\n",
      "Learning rate at epoch 2: 0.02000\n",
      "Model training loss :  1.15973 | Model Accuracy : 58.06\n",
      "Epoch 3/40\n",
      "Learning rate at epoch 3: 0.02000\n",
      "Model training loss :  0.87863 | Model Accuracy : 69.02\n",
      "Epoch 4/40\n",
      "Learning rate at epoch 4: 0.02000\n",
      "Model training loss :  0.71000 | Model Accuracy : 75.08\n",
      "Epoch 5/40\n",
      "Learning rate at epoch 5: 0.02000\n",
      "Model training loss :  0.59977 | Model Accuracy : 79.04\n",
      "Epoch 6/40\n",
      "Learning rate at epoch 6: 0.02000\n",
      "Model training loss :  0.52894 | Model Accuracy : 81.70\n",
      "Epoch 7/40\n",
      "Learning rate at epoch 7: 0.02000\n",
      "Model training loss :  0.48222 | Model Accuracy : 83.13\n",
      "Epoch 8/40\n",
      "Learning rate at epoch 8: 0.02000\n",
      "Model training loss :  0.42987 | Model Accuracy : 84.83\n",
      "Epoch 9/40\n",
      "Learning rate at epoch 9: 0.02000\n",
      "Model training loss :  0.39235 | Model Accuracy : 86.23\n",
      "Epoch 10/40\n",
      "Learning rate at epoch 10: 0.02000\n",
      "Model training loss :  0.35995 | Model Accuracy : 87.32\n",
      "Epoch 11/40\n",
      "Learning rate at epoch 11: 0.01000\n",
      "Model training loss :  0.22467 | Model Accuracy : 92.12\n",
      "Epoch 12/40\n",
      "Learning rate at epoch 12: 0.01000\n",
      "Model training loss :  0.18778 | Model Accuracy : 93.36\n",
      "Epoch 13/40\n",
      "Learning rate at epoch 13: 0.01000\n",
      "Model training loss :  0.16587 | Model Accuracy : 94.07\n",
      "Epoch 14/40\n",
      "Learning rate at epoch 14: 0.01000\n",
      "Model training loss :  0.16065 | Model Accuracy : 94.28\n",
      "Epoch 15/40\n",
      "Learning rate at epoch 15: 0.01000\n",
      "Model training loss :  0.15070 | Model Accuracy : 94.72\n",
      "Epoch 16/40\n",
      "Learning rate at epoch 16: 0.01000\n",
      "Model training loss :  0.13957 | Model Accuracy : 95.15\n",
      "Epoch 17/40\n",
      "Learning rate at epoch 17: 0.01000\n",
      "Model training loss :  0.13362 | Model Accuracy : 95.21\n",
      "Epoch 18/40\n",
      "Learning rate at epoch 18: 0.01000\n",
      "Model training loss :  0.12058 | Model Accuracy : 95.76\n",
      "Epoch 19/40\n",
      "Learning rate at epoch 19: 0.01000\n",
      "Model training loss :  0.11779 | Model Accuracy : 95.73\n",
      "Epoch 20/40\n",
      "Learning rate at epoch 20: 0.01000\n",
      "Model training loss :  0.11405 | Model Accuracy : 95.99\n",
      "Epoch 21/40\n",
      "Learning rate at epoch 21: 0.00500\n",
      "Model training loss :  0.04190 | Model Accuracy : 98.67\n",
      "Epoch 22/40\n",
      "Learning rate at epoch 22: 0.00500\n",
      "Model training loss :  0.02222 | Model Accuracy : 99.32\n",
      "Epoch 23/40\n",
      "Learning rate at epoch 23: 0.00500\n",
      "Model training loss :  0.01648 | Model Accuracy : 99.54\n",
      "Epoch 24/40\n",
      "Learning rate at epoch 24: 0.00500\n",
      "Model training loss :  0.01415 | Model Accuracy : 99.62\n",
      "Epoch 25/40\n",
      "Learning rate at epoch 25: 0.00500\n",
      "Model training loss :  0.01288 | Model Accuracy : 99.63\n",
      "Epoch 26/40\n",
      "Learning rate at epoch 26: 0.00500\n",
      "Model training loss :  0.01171 | Model Accuracy : 99.69\n",
      "Epoch 27/40\n",
      "Learning rate at epoch 27: 0.00500\n",
      "Model training loss :  0.01128 | Model Accuracy : 99.71\n",
      "Epoch 28/40\n",
      "Learning rate at epoch 28: 0.00500\n",
      "Model training loss :  0.00890 | Model Accuracy : 99.80\n",
      "Epoch 29/40\n",
      "Learning rate at epoch 29: 0.00500\n",
      "Model training loss :  0.00844 | Model Accuracy : 99.77\n",
      "Epoch 30/40\n",
      "Learning rate at epoch 30: 0.00500\n",
      "Model training loss :  0.00831 | Model Accuracy : 99.79\n",
      "Epoch 31/40\n",
      "Learning rate at epoch 31: 0.00250\n",
      "Model training loss :  0.00467 | Model Accuracy : 99.91\n",
      "Epoch 32/40\n",
      "Learning rate at epoch 32: 0.00250\n",
      "Model training loss :  0.00376 | Model Accuracy : 99.92\n",
      "Epoch 33/40\n",
      "Learning rate at epoch 33: 0.00250\n",
      "Model training loss :  0.00296 | Model Accuracy : 99.97\n",
      "Epoch 34/40\n",
      "Learning rate at epoch 34: 0.00250\n",
      "Model training loss :  0.00299 | Model Accuracy : 99.96\n",
      "Epoch 35/40\n",
      "Learning rate at epoch 35: 0.00250\n",
      "Model training loss :  0.00273 | Model Accuracy : 99.96\n",
      "Epoch 36/40\n",
      "Learning rate at epoch 36: 0.00250\n",
      "Model training loss :  0.00230 | Model Accuracy : 99.97\n",
      "Epoch 37/40\n",
      "Learning rate at epoch 37: 0.00250\n",
      "Model training loss :  0.00229 | Model Accuracy : 99.97\n",
      "Epoch 38/40\n",
      "Learning rate at epoch 38: 0.00250\n",
      "Model training loss :  0.00216 | Model Accuracy : 99.97\n",
      "Epoch 39/40\n",
      "Learning rate at epoch 39: 0.00250\n",
      "Model training loss :  0.00195 | Model Accuracy : 99.98\n",
      "Epoch 40/40\n",
      "Learning rate at epoch 40: 0.00250\n",
      "Model training loss :  0.00178 | Model Accuracy : 99.98\n",
      "total training time is  :  2052.0243103780003\n"
     ]
    }
   ],
   "source": [
    "torch.manual_seed(42)\n",
    "startTime = timer()\n",
    "\n",
    "scheduler = torch.optim.lr_scheduler.StepLR(optimizer, step_size=10, gamma=0.5)\n",
    "\n",
    "# endTime = timer()\n",
    "epochs = 40\n",
    "# Initialize the progress bar outside the epoch loop\n",
    "pbar = tqdm(total=len(train_dataLoader) * epochs, desc=\"Training\")\n",
    "\n",
    "for epoch in range(epochs):\n",
    "    print(f\"Epoch {epoch + 1}/{epochs}\")\n",
    "    print(f'Learning rate at epoch {epoch+1}: {scheduler.get_last_lr()[0]:.5f}')\n",
    "\n",
    "    # Call the training function\n",
    "    training_fn(data_loader=train_dataLoader, model=model1, optimizer=optimizer, loss_fn=loss_fn, accuracy_fn=accuracy_fn)\n",
    "    # Step the scheduler at the end of each epoch\n",
    "    # Optionally, print the current learning rate after each epoch to track changes\n",
    "    scheduler.step()\n",
    "    # Update the progress bar after each batch in the data loader (not per epoch)\n",
    "    pbar.update(len(train_dataLoader))  # Each epoch corresponds to `len(train_dataLoader)` updates\n",
    "\n",
    "\n",
    "# Close the progress bar once training is done\n",
    "pbar.close()\n",
    "\n",
    "endTime = timer()\n",
    "\n",
    "print(f\"total training time is  :  {endTime-startTime}\")\n"
   ]
  },
  {
   "cell_type": "code",
   "execution_count": 58,
   "id": "cce3d416-b776-4b9a-b61d-d90bcc5b9b3a",
   "metadata": {
    "id": "cce3d416-b776-4b9a-b61d-d90bcc5b9b3a"
   },
   "outputs": [],
   "source": [
    "# save the model\n",
    "#torch.save(obj=model1.state_dict(), f = \"model1gpu.pt\")\n"
   ]
  },
  {
   "cell_type": "code",
   "execution_count": 60,
   "id": "IzbfFG15N7Pr",
   "metadata": {
    "id": "IzbfFG15N7Pr"
   },
   "outputs": [],
   "source": [
    "#torch.save(model1, \"entire_model1.pt\")"
   ]
  },
  {
   "cell_type": "markdown",
   "id": "de217679-05dc-41fa-aa86-d57ffb6a4b8e",
   "metadata": {
    "id": "de217679-05dc-41fa-aa86-d57ffb6a4b8e"
   },
   "source": [
    "### Testing the model"
   ]
  },
  {
   "cell_type": "code",
   "execution_count": 11,
   "id": "cadc9863-9d9c-49ed-a51e-98f63300504b",
   "metadata": {},
   "outputs": [
    {
     "data": {
      "text/plain": [
       "<All keys matched successfully>"
      ]
     },
     "execution_count": 11,
     "metadata": {},
     "output_type": "execute_result"
    }
   ],
   "source": [
    "model_test = ResNet56()\n",
    "\n",
    "model_test.load_state_dict(torch.load('model1gpu-3.pt', map_location=torch.device('cpu')))\n",
    "\n"
   ]
  },
  {
   "cell_type": "code",
   "execution_count": 16,
   "id": "90e09cb2-6086-49f8-ba85-e9c29bb531be",
   "metadata": {
    "colab": {
     "base_uri": "https://localhost:8080/",
     "height": 230,
     "referenced_widgets": [
      "6b18f963d2bb4cfe88642add78976a46",
      "9d2dac827d53468a8e4abeacbc60faee",
      "dbb9262e4a244c0b9fac142c84c454b6",
      "c36d78d6ef98431f8d412a07ae908747",
      "ff4c947d257246f382bbf516a76f1d29",
      "8d45d88709b94ee786a5d38bb64235b4",
      "695aaa6d78464bd7ba17397e579802ce",
      "f88f65fbba0249b2ac0910736ec7762d",
      "265bafa9b5944769b5949f90cfd729eb",
      "b1996e8e43c54c9ba815ea55a8c4b50d",
      "87ced75c2bd54f1a8b952be3e63c0639"
     ]
    },
    "id": "90e09cb2-6086-49f8-ba85-e9c29bb531be",
    "outputId": "c4b81d88-4a31-4c99-f5cc-1fd073924077"
   },
   "outputs": [
    {
     "data": {
      "application/vnd.jupyter.widget-view+json": {
       "model_id": "a743db91f0c74a7f918879758986e11d",
       "version_major": 2,
       "version_minor": 0
      },
      "text/plain": [
       "Model Testing:   0%|          | 0/4 [00:00<?, ?it/s]"
      ]
     },
     "metadata": {},
     "output_type": "display_data"
    },
    {
     "name": "stdout",
     "output_type": "stream",
     "text": [
      "Epoch: 0\n",
      "---------\n",
      " Model testing Loss : 0.69194 | Model testing Accuracy : 85.90 \n",
      "Epoch: 1\n",
      "---------\n",
      " Model testing Loss : 0.69194 | Model testing Accuracy : 85.90 \n",
      "Epoch: 2\n",
      "---------\n",
      " Model testing Loss : 0.69194 | Model testing Accuracy : 85.90 \n",
      "Epoch: 3\n",
      "---------\n",
      " Model testing Loss : 0.69194 | Model testing Accuracy : 85.90 \n",
      "total training time :435.7070008999999\n"
     ]
    }
   ],
   "source": [
    "\n",
    "torch.manual_seed(42)\n",
    "\n",
    "startTime = timer()\n",
    "\n",
    "epochs = 4\n",
    "pbar = tqdm(total=epochs, desc=\"Model Testing\")\n",
    "# for epoch in tqdm(range(epochs)):\n",
    "for epoch in range(epochs):\n",
    "    print(f\"Epoch: {epoch}\\n---------\")\n",
    "    test_fn(data_loader=test_dataLoader,\n",
    "        model=model_test,\n",
    "        loss_fn=loss_fn,\n",
    "        accuracy_fn=accuracy_fn    )\n",
    "    pbar.update(1)  # Update the progress bar by 1\n",
    "    \n",
    "pbar.close()  # Close the progress bar\n",
    "\n",
    "endTime = timer()\n",
    "\n",
    "print(f\"total training time :{endTime-startTime}\")"
   ]
  },
  {
   "cell_type": "markdown",
   "id": "36b30d2a-a997-474b-89c3-ad30e3615db8",
   "metadata": {
    "id": "689e86a6-f1c0-4586-9092-904bef92988e"
   },
   "source": [
    "### Create the Prediction function"
   ]
  },
  {
   "cell_type": "code",
   "execution_count": 17,
   "id": "2b174c8c-68b3-4811-8dfc-41e4cfbad6b0",
   "metadata": {},
   "outputs": [],
   "source": [
    "def prediction_fn(model: torch.nn.Module, data: torch.Tensor, device: torch.device = device):\n",
    "    '''Returns the predicted class for each sample in the data'''\n",
    "    model.eval()  # Set model to evaluation mode\n",
    "    predictionProbabilities = []\n",
    "    \n",
    "    with torch.inference_mode():  # Disable gradient calculations for inference\n",
    "        data = data.to(device)  # Move data to device (GPU/CPU)\n",
    "        \n",
    "        # Forward pass for the whole batch at once\n",
    "        pred_out = model(data)  # Shape: [batch_size, num_classes]\n",
    "        \n",
    "        # Get the probability using softmax\n",
    "        pred_Probability = torch.softmax(pred_out, dim=1)  # Softmax over the class dimension\n",
    "        \n",
    "        # Store the probabilities\n",
    "        predictionProbabilities = pred_Probability.cpu()  # Move probabilities to CPU\n",
    "\n",
    "    # Get predicted class labels using argmax\n",
    "    predectedClasses = predictionProbabilities.argmax(dim=1)  # Get the index of the maximum probability for each sample\n",
    "    \n",
    "    return predectedClasses\n"
   ]
  },
  {
   "cell_type": "code",
   "execution_count": 24,
   "id": "091cc944-1bd3-4984-a5cc-a98eb6ef5790",
   "metadata": {},
   "outputs": [
    {
     "ename": "NameError",
     "evalue": "name 'testsample' is not defined",
     "output_type": "error",
     "traceback": [
      "\u001b[1;31m---------------------------------------------------------------------------\u001b[0m",
      "\u001b[1;31mNameError\u001b[0m                                 Traceback (most recent call last)",
      "Cell \u001b[1;32mIn[24], line 14\u001b[0m\n\u001b[0;32m     12\u001b[0m \u001b[38;5;66;03m# Check if the batch has the correct shape [batch_size, channels, height, width]\u001b[39;00m\n\u001b[0;32m     13\u001b[0m \u001b[38;5;28;01mif\u001b[39;00m sample\u001b[38;5;241m.\u001b[39mshape[\u001b[38;5;241m0\u001b[39m] \u001b[38;5;241m==\u001b[39m \u001b[38;5;241m32\u001b[39m:  \u001b[38;5;66;03m# Assuming the batch size is 32\u001b[39;00m\n\u001b[1;32m---> 14\u001b[0m     testImageSamples_tensor \u001b[38;5;241m=\u001b[39m \u001b[43mtestsample\u001b[49m  \u001b[38;5;66;03m# No need to stack since there's only one batch\u001b[39;00m\n\u001b[0;32m     15\u001b[0m     testImageLabels_tensor \u001b[38;5;241m=\u001b[39m label     \u001b[38;5;66;03m# Use the labels directly\u001b[39;00m\n\u001b[0;32m     17\u001b[0m     \u001b[38;5;28mprint\u001b[39m(\u001b[38;5;124mf\u001b[39m\u001b[38;5;124m\"\u001b[39m\u001b[38;5;124mThe shape of the batched test samples: \u001b[39m\u001b[38;5;132;01m{\u001b[39;00mtestImageSamples_tensor\u001b[38;5;241m.\u001b[39mshape\u001b[38;5;132;01m}\u001b[39;00m\u001b[38;5;124m\"\u001b[39m)  \u001b[38;5;66;03m# Should be [32, 3, 32, 32]\u001b[39;00m\n",
      "\u001b[1;31mNameError\u001b[0m: name 'testsample' is not defined"
     ]
    }
   ],
   "source": [
    "### Run the Model Prediction \n",
    "# a) Create random samples from the test data\n",
    "\n",
    "\n",
    "import torch\n",
    "\n",
    "# Assuming you're getting a single batch from your DataLoader\n",
    "sample, label = next(iter(test_dataLoader))  # This gets the first batch\n",
    "testImageSamples = sample\n",
    "testImageLabels = label\n",
    "\n",
    "# Check if the batch has the correct shape [batch_size, channels, height, width]\n",
    "if sample.shape[0] == 32:  # Assuming the batch size is 32\n",
    "    testImageSamples_tensor = sample  # No need to stack since there's only one batch\n",
    "    testImageLabels_tensor = label     # Use the labels directly\n",
    "   \n",
    "    print(f\"The shape of the batched test samples: {testImageSamples_tensor.shape}\")  # Should be [32, 3, 32, 32]\n",
    "    print(f\"Shape of the labels: {testImageLabels_tensor.shape}\")  # Should be [32]\n",
    "\n",
    "# If the batch shape is incorrect, you can handle it here\n",
    "else:\n",
    "    print(f\"Batch shape mismatch! Expected [32, 3, 32, 32] but got {sample.shape}\")\n"
   ]
  },
  {
   "cell_type": "markdown",
   "id": "fb0e1f69-8f51-4358-9017-c392786a332e",
   "metadata": {},
   "source": [
    "### there is one batch with uncorect size which can affect the testing phase"
   ]
  },
  {
   "cell_type": "code",
   "execution_count": 20,
   "id": "2e07875e-2123-4217-add6-fa00d4a45d9c",
   "metadata": {},
   "outputs": [],
   "source": [
    "resultOfprediction = prediction_fn(model=model_test, data=testImageSamples_tensor)  # Labels predicted\n",
    "# Visualize the predictions"
   ]
  },
  {
   "cell_type": "code",
   "execution_count": null,
   "id": "83a6595f-bf28-439b-b9f3-6295fdc84581",
   "metadata": {},
   "outputs": [],
   "source": []
  },
  {
   "cell_type": "code",
   "execution_count": 21,
   "id": "dfbf1d5c-a48f-4d31-bcf1-dd0117edefac",
   "metadata": {},
   "outputs": [
    {
     "data": {
      "text/plain": [
       "tensor([3, 8, 8, 0, 6, 6, 1, 6, 3, 1, 0, 9, 5, 7, 9, 6, 5, 7, 8, 6, 7, 0, 4, 9,\n",
       "        4, 3, 4, 0, 9, 6, 6, 5])"
      ]
     },
     "execution_count": 21,
     "metadata": {},
     "output_type": "execute_result"
    }
   ],
   "source": [
    "resultOfprediction"
   ]
  },
  {
   "cell_type": "markdown",
   "id": "f1823273-a335-4622-8801-47e3e80be0b6",
   "metadata": {},
   "source": [
    "### modify the test function to handel the batch mismatch"
   ]
  },
  {
   "cell_type": "code",
   "execution_count": null,
   "id": "dc8abb14-cdcf-42b4-a79b-e4f45accb089",
   "metadata": {},
   "outputs": [],
   "source": [
    "def new_test_fn(model: torch.nn.Module,\n",
    "            data_loader: torch.utils.data.DataLoader,\n",
    "            loss_fn: torch.nn.Module,\n",
    "            accuracy_fn,\n",
    "            device: torch.device = device):\n",
    "    # Initialize values and setup\n",
    "    testLoss, testAccuracy = 0, 0\n",
    "    model.to(device)\n",
    "    model.eval()  # Put model in evaluation mode\n",
    "    \n",
    "    # Turn on the inference context manager\n",
    "    with torch.inference_mode():\n",
    "        for X, y in data_loader:\n",
    "            # Skip the batch if it doesn't have the correct shape (batch size is not 32)\n",
    "            if X.shape[0] != 32:\n",
    "                continue  # Skip this batch and move to the next one\n",
    "\n",
    "            # Send data to device\n",
    "            X, y = X.to(device), y.to(device)\n",
    "            \n",
    "            # Forward pass\n",
    "            test_pred = model(X)\n",
    "            \n",
    "            # Calculate the loss and accuracy\n",
    "            testLoss += loss_fn(test_pred, y)\n",
    "            testAccuracy += accuracy_fn(y_true=y, y_pred=test_pred.argmax(dim=1))\n",
    "\n",
    "    # Compute average loss and accuracy\n",
    "    testLoss = testLoss / len(data_loader)\n",
    "    testAccuracy /= len(data_loader)\n",
    "    \n",
    "    print(f\"Model testing Loss: {testLoss:0.5f} | Model testing Accuracy: {testAccuracy:0.2f}\")\n"
   ]
  },
  {
   "cell_type": "code",
   "execution_count": 22,
   "id": "cb277569-2091-4ad0-9fa3-552e8219d7cd",
   "metadata": {},
   "outputs": [],
   "source": [
    "# import random\n",
    "# import torch\n",
    "# from torch.utils.data import TensorDataset\n",
    "\n",
    "# random.seed(42)\n",
    "\n",
    "# #test_data is batched, with each batch having 32 samples.\n",
    "# testImageSamples = []\n",
    "# testImageLabels = []\n",
    "\n",
    "# # Select 20 random samples from test_data\n",
    "# for sample, label in test_dataLoader:  # k = number of samples\n",
    "#     testImageSamples.append(sample)\n",
    "#     testImageLabels.append(label)\n",
    "\n",
    "# # Check the shape of one sample\n",
    "# print(f\"The shape of a single sample: {testImageSamples[0].shape}\")\n",
    "\n",
    "# # the test data is batched (shape of [32, H, W])\n",
    "\n",
    "# # Stack samples to create a single tensor for all images and labels\n",
    "# testImageSamples_tensor = torch.stack(testImageSamples)  # Shape: [18, 32, 3, 32, 32]\n",
    "# testImageLabels_tensor = torch.cat(testImageLabels)      # Shape: [18, 32]\n",
    "\n",
    "# print(f\"The shape of the batched test samples: {testImageSamples_tensor.shape}\")  # This should give you a batch shape\n",
    "\n",
    "# # Create the dataset\n",
    "# # testSampleDataset = TensorDataset(testImageSamples_tensor, testImageLabels_tensor)\n",
    "\n",
    "\n",
    "# print(f\"The shape of the batched test samples: {testImageSamples_tensor.shape}\")\n",
    "\n"
   ]
  },
  {
   "cell_type": "code",
   "execution_count": null,
   "id": "9d82f277-dd12-4abd-888c-644f13774379",
   "metadata": {},
   "outputs": [],
   "source": []
  },
  {
   "cell_type": "code",
   "execution_count": 23,
   "id": "c7ec2cca-e35c-44f0-b3be-1ba2ff115df9",
   "metadata": {},
   "outputs": [
    {
     "ename": "NameError",
     "evalue": "name 'testImageLabels' is not defined",
     "output_type": "error",
     "traceback": [
      "\u001b[1;31m---------------------------------------------------------------------------\u001b[0m",
      "\u001b[1;31mNameError\u001b[0m                                 Traceback (most recent call last)",
      "Cell \u001b[1;32mIn[23], line 11\u001b[0m\n\u001b[0;32m      8\u001b[0m predicted_class \u001b[38;5;241m=\u001b[39m resultOfprediction[i]\u001b[38;5;241m.\u001b[39margmax()\u001b[38;5;241m.\u001b[39mitem()  \u001b[38;5;66;03m# Get class index with the highest probability\u001b[39;00m\n\u001b[0;32m     10\u001b[0m \u001b[38;5;66;03m# Handle label extraction for true labels\u001b[39;00m\n\u001b[1;32m---> 11\u001b[0m \u001b[38;5;28;01mif\u001b[39;00m \u001b[38;5;28mlen\u001b[39m(\u001b[43mtestImageLabels\u001b[49m[i]\u001b[38;5;241m.\u001b[39mshape) \u001b[38;5;241m==\u001b[39m \u001b[38;5;241m1\u001b[39m:  \u001b[38;5;66;03m# If it's a scalar label (not one-hot encoded)\u001b[39;00m\n\u001b[0;32m     12\u001b[0m     true_label \u001b[38;5;241m=\u001b[39m testImageLabels[i]\u001b[38;5;241m.\u001b[39mitem()  \u001b[38;5;66;03m# Directly extract the value\u001b[39;00m\n\u001b[0;32m     13\u001b[0m \u001b[38;5;28;01melse\u001b[39;00m:\n\u001b[0;32m     14\u001b[0m     \u001b[38;5;66;03m# If it's one-hot encoded, get the index of '1'\u001b[39;00m\n",
      "\u001b[1;31mNameError\u001b[0m: name 'testImageLabels' is not defined"
     ]
    }
   ],
   "source": [
    "# Visualize the predictions\n",
    "cmap = []  # List to store color choices for overlays\n",
    "title = []  # List to store titles for each image\n",
    "\n",
    "# Loop through each batch\n",
    "for i in range(len(resultOfprediction)):  # Loop over each image in the batch\n",
    "    # Get the predicted class for the i-th sample in the batch\n",
    "    predicted_class = resultOfprediction[i].argmax().item()  # Get class index with the highest probability\n",
    "    \n",
    "    # Handle label extraction for true labels\n",
    "    if len(testImageLabels[i].shape) == 1:  # If it's a scalar label (not one-hot encoded)\n",
    "        true_label = testImageLabels[i].item()  # Directly extract the value\n",
    "    else:\n",
    "        # If it's one-hot encoded, get the index of '1'\n",
    "        true_label = testImageLabels[i].argmax().item()\n",
    "\n",
    "    # Compare predicted class with the true label\n",
    "    if predicted_class == true_label:\n",
    "        cmap.append(\"blue\")  # Correct prediction: Use blue border\n",
    "    else:\n",
    "        cmap.append(\"red\")  # Incorrect prediction: Use red border\n",
    "\n",
    "    # Title showing predicted vs actual\n",
    "    title.append(f\"predicted:{classNames[predicted_class]} | Original:{classNames[true_label]}\")\n",
    "\n",
    "# Print out the titles (predictions vs actual)\n",
    "print(f\"Titles---------------------------\\n{title}\")\n",
    "\n",
    "# Loop to display each image and its prediction\n",
    "for i in range(len(testImageSamples)):\n",
    "    # Get the image from the batch (assuming it's of shape [3, 32, 32])\n",
    "    image = testImageSamples[i].permute(1, 2, 0).numpy()  # Convert tensor to numpy (H, W, C)\n",
    "    \n",
    "    # Create the figure and axis\n",
    "    fig, ax = plt.subplots(1, 1, figsize=(5, 5))\n",
    "    ax.imshow(image)  # Display the image\n",
    "    \n",
    "    # Add the border/overlay color based on prediction status\n",
    "    ax.add_patch(plt.Rectangle((0, 0), image.shape[1], image.shape[0], linewidth=4, edgecolor=cmap[i], facecolor='none'))\n",
    "    \n",
    "    # Set the title as predicted vs actual\n",
    "    ax.set_title(title[i], fontsize=8)\n",
    "    \n",
    "    # Remove axis ticks\n",
    "    ax.set_xticks([])\n",
    "    ax.set_yticks([])\n",
    "    \n",
    "    # Show the image\n",
    "    plt.show()\n",
    "\n",
    "# Create the predicted dataset for visualization (including predicted labels)\n",
    "dataPredicted = create_tensor_dataset(testImageSamples_tensor, resultOfprediction)  # Create predicted dataset\n",
    "\n",
    "print(\"-----------------------------------------\")\n"
   ]
  },
  {
   "cell_type": "code",
   "execution_count": 59,
   "id": "460468d1-8f4e-4ae9-907b-39ed05ca8bbf",
   "metadata": {},
   "outputs": [
    {
     "ename": "RuntimeError",
     "evalue": "a Tensor with 32 elements cannot be converted to Scalar",
     "output_type": "error",
     "traceback": [
      "\u001b[1;31m---------------------------------------------------------------------------\u001b[0m",
      "\u001b[1;31mRuntimeError\u001b[0m                              Traceback (most recent call last)",
      "Cell \u001b[1;32mIn[59], line 10\u001b[0m\n\u001b[0;32m      8\u001b[0m \u001b[38;5;28;01mfor\u001b[39;00m i \u001b[38;5;129;01min\u001b[39;00m \u001b[38;5;28mrange\u001b[39m(\u001b[38;5;28mlen\u001b[39m(resultOfprediction)):\n\u001b[0;32m      9\u001b[0m      prediction \u001b[38;5;241m=\u001b[39m resultOfprediction[i]\u001b[38;5;241m.\u001b[39margmax()\u001b[38;5;241m.\u001b[39mitem()\n\u001b[1;32m---> 10\u001b[0m      \u001b[38;5;28;01mif\u001b[39;00m prediction \u001b[38;5;241m==\u001b[39m \u001b[43mtestImageLabels\u001b[49m\u001b[43m[\u001b[49m\u001b[43mi\u001b[49m\u001b[43m]\u001b[49m\u001b[38;5;241;43m.\u001b[39;49m\u001b[43mitem\u001b[49m\u001b[43m(\u001b[49m\u001b[43m)\u001b[49m:\n\u001b[0;32m     11\u001b[0m         cmap\u001b[38;5;241m.\u001b[39mappend(\u001b[38;5;124m\"\u001b[39m\u001b[38;5;124mgray\u001b[39m\u001b[38;5;124m\"\u001b[39m)\n\u001b[0;32m     12\u001b[0m         title\u001b[38;5;241m.\u001b[39mappend(classNames[resultOfprediction[i]])\n",
      "\u001b[1;31mRuntimeError\u001b[0m: a Tensor with 32 elements cannot be converted to Scalar"
     ]
    }
   ],
   "source": [
    "testImageSamples_flattened = torch.cat(testImageSamples)\n",
    "\n",
    "resultOfprediction = prediction_fn(model=model_test, data=testImageSamples_flattened)  # Labels predicted\n",
    "# Visualize the predictions\n",
    "cmap = []\n",
    "title=[]\n",
    "   \n",
    "for i in range(len(resultOfprediction)):\n",
    "     prediction = resultOfprediction[i].argmax().item()\n",
    "     if prediction == testImageLabels[i].item():\n",
    "        cmap.append(\"gray\")\n",
    "        title.append(classNames[resultOfprediction[i]])\n",
    "     else:\n",
    "        cmap.append(\"Reds\")\n",
    "        title.append(f\"predicted:{classNames[resultOfprediction[i]]} | Original:{classNames[testImageLabels[i]]}\")\n",
    "\n",
    "\n",
    "\n",
    "# print(f\"cmap -----------------------out:\\n{cmap}\")\n",
    "print(f\"titles---------------------------\\n{title}\")\n",
    "# print(f\"prediction------------------------\\n{resultOfprediction}\")\n",
    "# print(f\"test samples used-----------------\\n{ testImageLabels}\")\n",
    "# print(f\"test samples used-----------------\\n{ testImageSamples_tensor.shape}\")\n",
    "\n",
    "plot_fn(testSampleDataset, text=\"original data \" )\n",
    "dataPredicted = create_tensor_dataset(testImageSamples_tensor,resultOfprediction) # create the predicted data to able to use the plot function we create\n",
    "print(\"-----------------------------------------\")\n"
   ]
  },
  {
   "cell_type": "code",
   "execution_count": null,
   "id": "3a39123c-bd84-4366-8998-c458a739af5d",
   "metadata": {},
   "outputs": [],
   "source": [
    "plot_fn(dataPredicted , cmap1=cmap, title1=title , text=\"Predicted data\")\n",
    "print(title)"
   ]
  },
  {
   "cell_type": "code",
   "execution_count": null,
   "id": "25cb0df1-44fc-4283-a34f-294428d10191",
   "metadata": {},
   "outputs": [],
   "source": [
    "TestImages, TestLabels , predictedTestData = [] , [] , []\n",
    "\n",
    "pbar = tqdm(total=len(test_dataloader), desc=\"Prediction\")\n",
    "\n",
    "for X, y in test_dataloader :\n",
    "    X , y = X.to(device) , y.to(device)\n",
    "    TestImages =  X\n",
    "    predictedTestData.append(prediction_fn(model=model1 , data=TestImages))\n",
    "    pbar.update(1)  # Update the progress bar by 1\n",
    "pbar.close()  \n",
    "\n",
    "\n"
   ]
  },
  {
   "cell_type": "code",
   "execution_count": null,
   "id": "65c4bcc0-fa74-4e00-ac1f-17ca79d28177",
   "metadata": {},
   "outputs": [],
   "source": [
    "predictedTestData_tensor = torch.cat(predictedTestData) to converte the list of tensors ( 32 element / tensor) to one tensor"
   ]
  },
  {
   "cell_type": "code",
   "execution_count": null,
   "id": "75e2129a-d8c3-4ac3-97bc-093ab9a6eab5",
   "metadata": {},
   "outputs": [],
   "source": [
    "# !pip install mlxtend \n",
    "import mlxtend  , torchmetrics\n",
    "from torchmetrics import ConfusionMatrix\n",
    "from mlxtend.plotting import plot_confusion_matrix\n",
    "\n",
    "#  setup confusion instance and compare prediction to the original \n",
    "confMat = ConfusionMatrix(num_classes = len(classNames) , task = 'multiclass')\n",
    "confMatTensor = confMat( preds = predictedTestData_tensor , target = test_data.targets )\n",
    "# plot the confusion matrix\n",
    "fig , ax = plot_confusion_matrix(\n",
    "           conf_mat=confMatTensor.numpy(), \n",
    "           class_names=classNames, cmap='coolwarm',\n",
    "           figsize=(5 , 5)\n",
    ")\n"
   ]
  }
 ],
 "metadata": {
  "accelerator": "GPU",
  "colab": {
   "gpuType": "T4",
   "provenance": []
  },
  "kernelspec": {
   "display_name": "Python 3 (ipykernel)",
   "language": "python",
   "name": "python3"
  },
  "language_info": {
   "codemirror_mode": {
    "name": "ipython",
    "version": 3
   },
   "file_extension": ".py",
   "mimetype": "text/x-python",
   "name": "python",
   "nbconvert_exporter": "python",
   "pygments_lexer": "ipython3",
   "version": "3.12.2"
  },
  "widgets": {
   "application/vnd.jupyter.widget-state+json": {
    "state": {
     "02922a179247426a9ec78d99e8e95b42": {
      "model_module": "@jupyter-widgets/controls",
      "model_module_version": "2.0.0",
      "model_name": "HTMLModel",
      "state": {
       "layout": "IPY_MODEL_ffbdab59fe6545be95ca0bde2693e67f",
       "style": "IPY_MODEL_17809afd3eaa4fccac978a24fb2555af",
       "value": " 0/4 [17:32&lt;?, ?it/s]"
      }
     },
     "0a7252dbd5504e3f81d2f1afa1682757": {
      "model_module": "@jupyter-widgets/controls",
      "model_module_version": "2.0.0",
      "model_name": "HBoxModel",
      "state": {
       "children": [
        "IPY_MODEL_a5de70d6351b4807906f7098b9c10c83",
        "IPY_MODEL_5945166d946246769ba144f27e2f93bd",
        "IPY_MODEL_02922a179247426a9ec78d99e8e95b42"
       ],
       "layout": "IPY_MODEL_6a7222c6f6114c0bb927b0fc0e4a5853"
      }
     },
     "0c20d2978ade4e2b83ac72ead413357d": {
      "model_module": "@jupyter-widgets/controls",
      "model_module_version": "2.0.0",
      "model_name": "HTMLStyleModel",
      "state": {
       "description_width": "",
       "font_size": null,
       "text_color": null
      }
     },
     "0c7cfa53891549d7b6eec019f807d871": {
      "model_module": "@jupyter-widgets/controls",
      "model_module_version": "2.0.0",
      "model_name": "HTMLModel",
      "state": {
       "layout": "IPY_MODEL_3f7bf28605ec47e18e1d86b50bdcb9ca",
       "style": "IPY_MODEL_ce1ffb4b8b344acc84990c2acb80d961",
       "value": "Model Testing:   0%"
      }
     },
     "0cfbba8a01cb4809a1e3f7ac9b4564ca": {
      "model_module": "@jupyter-widgets/controls",
      "model_module_version": "2.0.0",
      "model_name": "FloatProgressModel",
      "state": {
       "bar_style": "danger",
       "layout": "IPY_MODEL_fec2063c72314b80972a2fed67e4e09a",
       "max": 4,
       "style": "IPY_MODEL_797d68fb35b7421b8074c14bda0d2f53"
      }
     },
     "127209043f3e4c31a4205b14050aae11": {
      "model_module": "@jupyter-widgets/controls",
      "model_module_version": "2.0.0",
      "model_name": "HBoxModel",
      "state": {
       "children": [
        "IPY_MODEL_0c7cfa53891549d7b6eec019f807d871",
        "IPY_MODEL_0cfbba8a01cb4809a1e3f7ac9b4564ca",
        "IPY_MODEL_f262320c4abc4806b221f551c4e3e573"
       ],
       "layout": "IPY_MODEL_326fda3750824db2bad56eb37fb67cc2"
      }
     },
     "17809afd3eaa4fccac978a24fb2555af": {
      "model_module": "@jupyter-widgets/controls",
      "model_module_version": "2.0.0",
      "model_name": "HTMLStyleModel",
      "state": {
       "description_width": "",
       "font_size": null,
       "text_color": null
      }
     },
     "30bba0a60888473f8fc7637e395e48d0": {
      "model_module": "@jupyter-widgets/controls",
      "model_module_version": "2.0.0",
      "model_name": "HTMLStyleModel",
      "state": {
       "description_width": "",
       "font_size": null,
       "text_color": null
      }
     },
     "326fda3750824db2bad56eb37fb67cc2": {
      "model_module": "@jupyter-widgets/base",
      "model_module_version": "2.0.0",
      "model_name": "LayoutModel",
      "state": {}
     },
     "32a3e32cc8fa4fc5b94c120b1e894b6c": {
      "model_module": "@jupyter-widgets/base",
      "model_module_version": "2.0.0",
      "model_name": "LayoutModel",
      "state": {}
     },
     "32f07e38aa8d43a584f7b476fc5c1e96": {
      "model_module": "@jupyter-widgets/controls",
      "model_module_version": "2.0.0",
      "model_name": "ProgressStyleModel",
      "state": {
       "description_width": ""
      }
     },
     "3f7bf28605ec47e18e1d86b50bdcb9ca": {
      "model_module": "@jupyter-widgets/base",
      "model_module_version": "2.0.0",
      "model_name": "LayoutModel",
      "state": {}
     },
     "53c480f508324608904568698971a0fd": {
      "model_module": "@jupyter-widgets/base",
      "model_module_version": "2.0.0",
      "model_name": "LayoutModel",
      "state": {}
     },
     "5945166d946246769ba144f27e2f93bd": {
      "model_module": "@jupyter-widgets/controls",
      "model_module_version": "2.0.0",
      "model_name": "FloatProgressModel",
      "state": {
       "bar_style": "danger",
       "layout": "IPY_MODEL_9776623a6f544c218e9617dec7baf1e3",
       "max": 4,
       "style": "IPY_MODEL_32f07e38aa8d43a584f7b476fc5c1e96"
      }
     },
     "5957493161b347759d39123e953aee38": {
      "model_module": "@jupyter-widgets/controls",
      "model_module_version": "2.0.0",
      "model_name": "HTMLModel",
      "state": {
       "layout": "IPY_MODEL_c85e08bea039472782011f924691f01b",
       "style": "IPY_MODEL_7b017e52e39647d0a2ffdf0eae47f9c1",
       "value": " 4/4 [07:15&lt;00:00, 108.17s/it]"
      }
     },
     "6a7222c6f6114c0bb927b0fc0e4a5853": {
      "model_module": "@jupyter-widgets/base",
      "model_module_version": "2.0.0",
      "model_name": "LayoutModel",
      "state": {}
     },
     "797d68fb35b7421b8074c14bda0d2f53": {
      "model_module": "@jupyter-widgets/controls",
      "model_module_version": "2.0.0",
      "model_name": "ProgressStyleModel",
      "state": {
       "description_width": ""
      }
     },
     "79ca50d0bc5f44ad8eafc92c4941ab1b": {
      "model_module": "@jupyter-widgets/controls",
      "model_module_version": "2.0.0",
      "model_name": "FloatProgressModel",
      "state": {
       "bar_style": "success",
       "layout": "IPY_MODEL_32a3e32cc8fa4fc5b94c120b1e894b6c",
       "max": 4,
       "style": "IPY_MODEL_f0cd22478dbc40ddbd7805d1c95c51f8",
       "value": 4
      }
     },
     "7b017e52e39647d0a2ffdf0eae47f9c1": {
      "model_module": "@jupyter-widgets/controls",
      "model_module_version": "2.0.0",
      "model_name": "HTMLStyleModel",
      "state": {
       "description_width": "",
       "font_size": null,
       "text_color": null
      }
     },
     "913ddf27f7254975822100358a9c9263": {
      "model_module": "@jupyter-widgets/base",
      "model_module_version": "2.0.0",
      "model_name": "LayoutModel",
      "state": {}
     },
     "93da7b7f886b4b2a8f979f3655f91073": {
      "model_module": "@jupyter-widgets/controls",
      "model_module_version": "2.0.0",
      "model_name": "HTMLStyleModel",
      "state": {
       "description_width": "",
       "font_size": null,
       "text_color": null
      }
     },
     "973f0260b7624aeb979f53e7d195287b": {
      "model_module": "@jupyter-widgets/base",
      "model_module_version": "2.0.0",
      "model_name": "LayoutModel",
      "state": {}
     },
     "9776623a6f544c218e9617dec7baf1e3": {
      "model_module": "@jupyter-widgets/base",
      "model_module_version": "2.0.0",
      "model_name": "LayoutModel",
      "state": {}
     },
     "a5de70d6351b4807906f7098b9c10c83": {
      "model_module": "@jupyter-widgets/controls",
      "model_module_version": "2.0.0",
      "model_name": "HTMLModel",
      "state": {
       "layout": "IPY_MODEL_53c480f508324608904568698971a0fd",
       "style": "IPY_MODEL_93da7b7f886b4b2a8f979f3655f91073",
       "value": "Model Testing:   0%"
      }
     },
     "a743db91f0c74a7f918879758986e11d": {
      "model_module": "@jupyter-widgets/controls",
      "model_module_version": "2.0.0",
      "model_name": "HBoxModel",
      "state": {
       "children": [
        "IPY_MODEL_b37f34a990894fce9ee912dc76a67bde",
        "IPY_MODEL_79ca50d0bc5f44ad8eafc92c4941ab1b",
        "IPY_MODEL_5957493161b347759d39123e953aee38"
       ],
       "layout": "IPY_MODEL_913ddf27f7254975822100358a9c9263"
      }
     },
     "b37f34a990894fce9ee912dc76a67bde": {
      "model_module": "@jupyter-widgets/controls",
      "model_module_version": "2.0.0",
      "model_name": "HTMLModel",
      "state": {
       "layout": "IPY_MODEL_973f0260b7624aeb979f53e7d195287b",
       "style": "IPY_MODEL_0c20d2978ade4e2b83ac72ead413357d",
       "value": "Model Testing: 100%"
      }
     },
     "c85e08bea039472782011f924691f01b": {
      "model_module": "@jupyter-widgets/base",
      "model_module_version": "2.0.0",
      "model_name": "LayoutModel",
      "state": {}
     },
     "ce1ffb4b8b344acc84990c2acb80d961": {
      "model_module": "@jupyter-widgets/controls",
      "model_module_version": "2.0.0",
      "model_name": "HTMLStyleModel",
      "state": {
       "description_width": "",
       "font_size": null,
       "text_color": null
      }
     },
     "d170011dae654a5995f293248943ea56": {
      "model_module": "@jupyter-widgets/base",
      "model_module_version": "2.0.0",
      "model_name": "LayoutModel",
      "state": {}
     },
     "f0cd22478dbc40ddbd7805d1c95c51f8": {
      "model_module": "@jupyter-widgets/controls",
      "model_module_version": "2.0.0",
      "model_name": "ProgressStyleModel",
      "state": {
       "description_width": ""
      }
     },
     "f262320c4abc4806b221f551c4e3e573": {
      "model_module": "@jupyter-widgets/controls",
      "model_module_version": "2.0.0",
      "model_name": "HTMLModel",
      "state": {
       "layout": "IPY_MODEL_d170011dae654a5995f293248943ea56",
       "style": "IPY_MODEL_30bba0a60888473f8fc7637e395e48d0",
       "value": " 0/4 [16:33&lt;?, ?it/s]"
      }
     },
     "fec2063c72314b80972a2fed67e4e09a": {
      "model_module": "@jupyter-widgets/base",
      "model_module_version": "2.0.0",
      "model_name": "LayoutModel",
      "state": {}
     },
     "ffbdab59fe6545be95ca0bde2693e67f": {
      "model_module": "@jupyter-widgets/base",
      "model_module_version": "2.0.0",
      "model_name": "LayoutModel",
      "state": {}
     }
    },
    "version_major": 2,
    "version_minor": 0
   }
  }
 },
 "nbformat": 4,
 "nbformat_minor": 5
}
